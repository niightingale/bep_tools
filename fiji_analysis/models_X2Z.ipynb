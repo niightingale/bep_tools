{
 "cells": [
  {
   "cell_type": "markdown",
   "metadata": {},
   "source": [
    "### Models X2Z | created 05/07/2022 | Models X2 for Maximum Projections"
   ]
  },
  {
   "cell_type": "code",
   "execution_count": 18,
   "metadata": {},
   "outputs": [
    {
     "name": "stdout",
     "output_type": "stream",
     "text": [
      "python 3.10.2 (tags/v3.10.2:a58ebcc, Jan 17 2022, 14:12:15) [MSC v.1929 64 bit (AMD64)] \n",
      "numpy 1.22.3 \n",
      "pandas 1.4.2 \n",
      "plotnine 0.8.0 \n",
      "statsmodels 0.13.2 \n",
      "sklearn 1.1.1\n"
     ]
    }
   ],
   "source": [
    "# General\n",
    "import os\n",
    "import sys\n",
    "import pickle\n",
    "import random\n",
    "import string\n",
    "import numpy as np\n",
    "import pandas as pd\n",
    "from datetime import date\n",
    "from plotnine import *\n",
    "from plotnine import __version__ as p9__version__\n",
    "import statsmodels.api as sm\n",
    "import statsmodels.formula.api as smf\n",
    "from sklearn import __version__ as sk__version__\n",
    "\n",
    "print(\"python\", sys.version,\n",
    "      \"\\nnumpy\", np.__version__,\n",
    "      \"\\npandas\", pd.__version__,\n",
    "      \"\\nplotnine\", p9__version__,\n",
    "      \"\\nstatsmodels\", sm.__version__,\n",
    "      \"\\nsklearn\", sk__version__)\n",
    "\n",
    "# Random Forest\n",
    "from sklearn import tree\n",
    "from sklearn.metrics import accuracy_score, precision_score, recall_score, f1_score\n",
    "from sklearn.metrics import classification_report, ConfusionMatrixDisplay\n",
    "from sklearn.ensemble import BaggingClassifier, RandomForestClassifier"
   ]
  },
  {
   "cell_type": "markdown",
   "metadata": {},
   "source": [
    "#### Functions"
   ]
  },
  {
   "cell_type": "code",
   "execution_count": 19,
   "metadata": {},
   "outputs": [],
   "source": [
    "def opera_to_df(input, n_skip = 9):\n",
    "    # Import Tab separated opera file\n",
    "    raw_df = pd.read_csv(input, sep = '\\t', skiprows = n_skip)       # Read file (txt or csv) and skip header\n",
    "    #raw_df = raw_df.dropna(axis = 'Column')                    # Remove non-value columns\n",
    "    return raw_df \n",
    "\n",
    "def filter_frame(df, col_idx):\n",
    "    df_out = df[df['Column'] == col_idx]    # Select Column\n",
    "    return df_out"
   ]
  },
  {
   "cell_type": "code",
   "execution_count": 20,
   "metadata": {},
   "outputs": [],
   "source": [
    "def attach_trc(df, path_annotations):\n",
    "    ls_trc = []\n",
    "\n",
    "    with open(path_annotations) as f:\n",
    "        for line in f:\n",
    "            ls_trc.append(int(line))\n",
    "    df['trc'] = ls_trc\n",
    "\n",
    "def get_rfc_model(df, features, prediction, estimators, depth_max):\n",
    "    y = df[prediction]\n",
    "    X = df[features]\n",
    "\n",
    "    c = RandomForestClassifier(n_estimators = estimators, max_depth = depth_max)\n",
    "    m_rfc = c.fit(X,y)\n",
    "\n",
    "    p = m_rfc.predict(X)\n",
    "\n",
    "    print(classification_report(y,p))\n",
    "    ConfusionMatrixDisplay.from_predictions(y, p)\n",
    "\n",
    "    return m_rfc\n",
    "\n",
    "def store_rfc_model(model, path, name):\n",
    "    # Identifier\n",
    "    date_raw = date.today()\n",
    "    d1 = date_raw.strftime(\"%d%m%y\")\n",
    "\n",
    "    identifier = d1 + \"_\" + name\n",
    "    folderpath = os.path.join(path, identifier).replace(\"\\\\\",\"/\")\n",
    "    os.mkdir(folderpath)\n",
    "\n",
    "    descriptor =    str(model.feature_names_in_) + \\\n",
    "                    str(model.feature_importances_) + \"\\n\" + \\\n",
    "                    \"Features: \" + str(model.n_features_) + \"\\n\" + \\\n",
    "                    \"Max Depth: \" + str(model.max_depth)\n",
    "\n",
    "    # Write Descriptor\n",
    "    with open(folderpath + '/readme.txt', 'w') as f:\n",
    "        f.write(descriptor)\n",
    "\n",
    "    # Write Model\n",
    "    pickle.dump(model, open(folderpath + f'/{identifier}.rfc', \"wb\"))\n",
    "\n",
    "def getModel(input, rc, in_out):\n",
    "    # 1) Obtain proper cuts\n",
    "    df_clc = opera_to_df(in_out[0] + '/' + input)\n",
    "    \n",
    "    if len(rc) > 1:\n",
    "        clc_pos = df_clc[df_clc['Row'] == rc[0]]\n",
    "        clc_pos = df_clc[df_clc['Column'] == rc[1]]\n",
    "    else:\n",
    "        clc_pos = df_clc[df_clc['Column'] == rc[0]]\n",
    "\n",
    "    # 2) Obtain Annotation Data\n",
    "    attach_trc(clc_pos, in_out[0] + '/cep.txt')\n",
    "\n",
    "    prediction = ['trc']\n",
    "    features = ['coloc AR - Spot Contrast', 'coloc AR - Spot Area [px²]', 'coloc AR - Relative Spot  Intensity', 'coloc AR - Corrected Spot  Intensity', 'coloc AR - Spot To Region Intensity']\n",
    "\n",
    "    m_rfc = get_rfc_model(clc_pos, features, prediction, estimators = 10, depth_max = 5)\n",
    "    return m_rfc"
   ]
  },
  {
   "cell_type": "markdown",
   "metadata": {},
   "source": [
    "### 1) Model Generation"
   ]
  },
  {
   "cell_type": "code",
   "execution_count": 21,
   "metadata": {},
   "outputs": [],
   "source": [
    "ar_0206 = opera_to_df('data/0206_assay_X/input_data/Objects_Population - coloc AR.txt')\n",
    "ar_0206_wt_8 = filter_frame(ar_0206, 8)\n",
    "ar_0206_wt_8.to_csv('data/0206_assay_X/output_data/ar_wt_8_full.csv')"
   ]
  },
  {
   "cell_type": "code",
   "execution_count": 24,
   "metadata": {},
   "outputs": [
    {
     "name": "stderr",
     "output_type": "stream",
     "text": [
      "C:\\Users\\Student\\AppData\\Local\\Temp\\ipykernel_8320\\2095996707.py:7: SettingWithCopyWarning: \n",
      "A value is trying to be set on a copy of a slice from a DataFrame.\n",
      "Try using .loc[row_indexer,col_indexer] = value instead\n",
      "\n",
      "See the caveats in the documentation: https://pandas.pydata.org/pandas-docs/stable/user_guide/indexing.html#returning-a-view-versus-a-copy\n",
      "C:\\Users\\Student\\AppData\\Local\\Temp\\ipykernel_8320\\2095996707.py:14: DataConversionWarning: A column-vector y was passed when a 1d array was expected. Please change the shape of y to (n_samples,), for example using ravel().\n"
     ]
    },
    {
     "name": "stdout",
     "output_type": "stream",
     "text": [
      "              precision    recall  f1-score   support\n",
      "\n",
      "           0       1.00      1.00      1.00       106\n",
      "           1       1.00      1.00      1.00        17\n",
      "\n",
      "    accuracy                           1.00       123\n",
      "   macro avg       1.00      1.00      1.00       123\n",
      "weighted avg       1.00      1.00      1.00       123\n",
      "\n"
     ]
    },
    {
     "name": "stderr",
     "output_type": "stream",
     "text": [
      "c:\\Users\\Student\\Desktop\\LocalEnvs\\localenv\\lib\\site-packages\\sklearn\\utils\\deprecation.py:103: FutureWarning: Attribute `n_features_` was deprecated in version 1.0 and will be removed in 1.2. Use `n_features_in_` instead.\n"
     ]
    },
    {
     "data": {
      "image/png": "[encoded data removed]",
      "text/plain": [
       "<Figure size 432x288 with 2 Axes>"
      ]
     },
     "metadata": {
      "needs_background": "light"
     },
     "output_type": "display_data"
    }
   ],
   "source": [
    "in_out = ['data/0206_assay_X/input_data', 'data/0206_assay_X/output_data']\n",
    "path = 'Objects_Population - coloc AR.txt'\n",
    "model = getModel(path, [8], in_out)\n",
    "\n",
    "store_rfc_model(model, in_out[1], 'z_prime')"
   ]
  },
  {
   "cell_type": "markdown",
   "metadata": {},
   "source": [
    "### 2) Model Prediction on 1606 WT | WELL 4"
   ]
  },
  {
   "cell_type": "code",
   "execution_count": 25,
   "metadata": {},
   "outputs": [],
   "source": [
    "features = ['coloc AR - Spot Contrast', 'coloc AR - Spot Area [px²]', 'coloc AR - Relative Spot  Intensity', 'coloc AR - Corrected Spot  Intensity', 'coloc AR - Spot To Region Intensity']"
   ]
  },
  {
   "cell_type": "code",
   "execution_count": 29,
   "metadata": {},
   "outputs": [
    {
     "name": "stdout",
     "output_type": "stream",
     "text": [
      "Initial: 257\n",
      "Final: 19\n"
     ]
    },
    {
     "name": "stderr",
     "output_type": "stream",
     "text": [
      "C:\\Users\\Student\\AppData\\Local\\Temp\\ipykernel_8320\\3658470154.py:12: SettingWithCopyWarning: \n",
      "A value is trying to be set on a copy of a slice from a DataFrame.\n",
      "Try using .loc[row_indexer,col_indexer] = value instead\n",
      "\n",
      "See the caveats in the documentation: https://pandas.pydata.org/pandas-docs/stable/user_guide/indexing.html#returning-a-view-versus-a-copy\n"
     ]
    }
   ],
   "source": [
    "# LOAD model\n",
    "model = pickle.load(open('data/0206_assay_X/output_data/060722_z_prime/060722_z_prime.rfc', 'rb'))\n",
    "\n",
    "# LOAD DATA\n",
    "ar_coloc_1606 = opera_to_df('data/1606_assay_X/input_data/Objects_Population - coloc AR.txt')\n",
    "ar_wt_pos_1606_4 = ar_coloc_1606[ar_coloc_1606['Column'] == 4]\n",
    "print(f'Initial: {len(ar_wt_pos_1606_4)}')\n",
    "\n",
    "X = ar_wt_pos_1606_4[features]\n",
    "\n",
    "trc_wt = model.predict(X)\n",
    "ar_wt_pos_1606_4['trc'] = trc_wt\n",
    "\n",
    "ar_wt_pos_1606_4_view = ar_wt_pos_1606_4[ar_wt_pos_1606_4['trc'] == 1]\n",
    "print(f'Final: {len(ar_wt_pos_1606_4_view)}')\n",
    "ar_wt_pos_1606_4_view.to_csv('data/1606_assay_X/output_data/ar_wt_04_view.csv')"
   ]
  }
 ],
 "metadata": {
  "kernelspec": {
   "display_name": "Python 3.10.2 ('localenv')",
   "language": "python",
   "name": "python3"
  },
  "language_info": {
   "codemirror_mode": {
    "name": "ipython",
    "version": 3
   },
   "file_extension": ".py",
   "mimetype": "text/x-python",
   "name": "python",
   "nbconvert_exporter": "python",
   "pygments_lexer": "ipython3",
   "version": "3.10.2"
  },
  "orig_nbformat": 4,
  "vscode": {
   "interpreter": {
    "hash": "b7c959d6a5b77926b91d88578984f168f1207529946d5dc78330c22708e6bb6d"
   }
  }
 },
 "nbformat": 4,
 "nbformat_minor": 2
}

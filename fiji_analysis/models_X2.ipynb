{
 "cells": [
  {
   "cell_type": "markdown",
   "metadata": {},
   "source": [
    "### Models X2 | created 01/07/2022 | generalisation of Models X\n",
    "> This notebook was created with the goal of the computational analysis of the spot properties output of the Opera."
   ]
  },
  {
   "cell_type": "markdown",
   "metadata": {},
   "source": [
    "##### Imports"
   ]
  },
  {
   "cell_type": "code",
   "execution_count": 45,
   "metadata": {},
   "outputs": [
    {
     "name": "stdout",
     "output_type": "stream",
     "text": [
      "python 3.10.2 (tags/v3.10.2:a58ebcc, Jan 17 2022, 14:12:15) [MSC v.1929 64 bit (AMD64)] \n",
      "numpy 1.22.3 \n",
      "pandas 1.4.2 \n",
      "plotnine 0.8.0 \n",
      "statsmodels 0.13.2 \n",
      "sklearn 1.1.1\n"
     ]
    }
   ],
   "source": [
    "# General\n",
    "import os\n",
    "import sys\n",
    "import pickle\n",
    "import random\n",
    "import string\n",
    "import numpy as np\n",
    "import pandas as pd\n",
    "from datetime import date\n",
    "from plotnine import *\n",
    "from plotnine import __version__ as p9__version__\n",
    "import statsmodels.api as sm\n",
    "import statsmodels.formula.api as smf\n",
    "from sklearn import __version__ as sk__version__\n",
    "\n",
    "print(\"python\", sys.version,\n",
    "      \"\\nnumpy\", np.__version__,\n",
    "      \"\\npandas\", pd.__version__,\n",
    "      \"\\nplotnine\", p9__version__,\n",
    "      \"\\nstatsmodels\", sm.__version__,\n",
    "      \"\\nsklearn\", sk__version__)\n",
    "\n",
    "# Random Forest\n",
    "from sklearn import tree\n",
    "from sklearn.metrics import accuracy_score, precision_score, recall_score, f1_score\n",
    "from sklearn.metrics import classification_report, ConfusionMatrixDisplay\n",
    "from sklearn.ensemble import BaggingClassifier, RandomForestClassifier"
   ]
  },
  {
   "cell_type": "markdown",
   "metadata": {},
   "source": [
    "#### 1) Pre-Processing\n",
    "This is the selection of the right columns from the Opera output file."
   ]
  },
  {
   "cell_type": "code",
   "execution_count": 2,
   "metadata": {},
   "outputs": [],
   "source": [
    "def opera_to_df(input):\n",
    "    # Import Tab separated opera file\n",
    "    raw_df = pd.read_csv(input, sep = '\\t', skiprows = 9)       # Read file (txt or csv) and skip header\n",
    "    raw_df = raw_df.dropna(axis = 'columns')                    # Remove non-value columns\n",
    "    return raw_df \n",
    "\n",
    "def filter_frame(df, col_idx):\n",
    "    df_out = df[df['Column'] == col_idx]    # Select Column\n",
    "    return df_out"
   ]
  },
  {
   "cell_type": "markdown",
   "metadata": {},
   "source": [
    "##### 2) Model Fitting"
   ]
  },
  {
   "cell_type": "code",
   "execution_count": 83,
   "metadata": {},
   "outputs": [],
   "source": [
    "def attach_trc(df, path_annotations):\n",
    "    ls_trc = []\n",
    "\n",
    "    with open(path_annotations) as f:\n",
    "        for line in f:\n",
    "            ls_trc.append(int(line))\n",
    "    df['trc'] = ls_trc\n",
    "\n",
    "def get_rfc_model(df, features, prediction, estimators, depth_max):\n",
    "    y = df[prediction]\n",
    "    X = df[features]\n",
    "\n",
    "    c = RandomForestClassifier(n_estimators = estimators, max_depth = depth_max)\n",
    "    m_rfc = c.fit(X,y)\n",
    "\n",
    "    p = m_rfc.predict(X)\n",
    "\n",
    "    print(classification_report(y,p))\n",
    "    ConfusionMatrixDisplay.from_predictions(y, p)\n",
    "\n",
    "    return m_rfc\n",
    "\n",
    "def store_rfc_model(model, path, name):\n",
    "    # Identifier\n",
    "    date_raw = date.today()\n",
    "    d1 = date_raw.strftime(\"%d%m%y\")\n",
    "\n",
    "    identifier = d1 + \"_\" + name\n",
    "    folderpath = os.path.join(path, identifier).replace(\"\\\\\",\"/\")\n",
    "    os.mkdir(folderpath)\n",
    "\n",
    "    descriptor =    str(model.feature_names_in_) + \\\n",
    "                    str(model.feature_importances_) + \"\\n\" + \\\n",
    "                    \"Features: \" + str(model.n_features_) + \"\\n\" + \\\n",
    "                    \"Max Depth: \" + str(model.max_depth)\n",
    "\n",
    "    # Write Descriptor\n",
    "    with open(folderpath + '/readme.txt', 'w') as f:\n",
    "        f.write(descriptor)\n",
    "\n",
    "    # Write Model\n",
    "    pickle.dump(model, open(folderpath + f'/{identifier}.rfc', \"wb\"))\n"
   ]
  },
  {
   "cell_type": "code",
   "execution_count": 79,
   "metadata": {},
   "outputs": [],
   "source": [
    "def getModel(input, rc, in_out):\n",
    "    # 1) Obtain proper cuts\n",
    "    df_clc = opera_to_df(in_out[0] + '/' + input)\n",
    "    \n",
    "    if len(rc) > 1:\n",
    "        clc_pos = df_clc[df_clc['Row'] == rc[0]]\n",
    "        clc_pos = df_clc[df_clc['Column'] == rc[1]]\n",
    "    else:\n",
    "        clc_pos = df_clc[df_clc['Column'] == rc[0]]\n",
    "\n",
    "    # 2) Obtain Annotation Data\n",
    "    attach_trc(clc_pos, in_out[0] + '/cep.txt')\n",
    "\n",
    "    prediction = ['trc']\n",
    "    features = ['coloc AR - Spot Contrast', 'coloc AR - Spot Area [px²]', 'coloc AR - Relative Spot  Intensity', 'coloc AR - Corrected Spot  Intensity', 'coloc AR - Spot To Region Intensity']\n",
    "\n",
    "    m_rfc = get_rfc_model(clc_pos, features, prediction, estimators = 10, depth_max = 5)\n",
    "    return m_rfc\n"
   ]
  },
  {
   "cell_type": "code",
   "execution_count": 84,
   "metadata": {},
   "outputs": [
    {
     "name": "stdout",
     "output_type": "stream",
     "text": [
      "              precision    recall  f1-score   support\n",
      "\n",
      "           0       0.92      0.98      0.95       162\n",
      "           1       0.93      0.78      0.85        65\n",
      "\n",
      "    accuracy                           0.92       227\n",
      "   macro avg       0.92      0.88      0.90       227\n",
      "weighted avg       0.92      0.92      0.92       227\n",
      "\n"
     ]
    },
    {
     "name": "stderr",
     "output_type": "stream",
     "text": [
      "C:\\Users\\Student\\AppData\\Local\\Temp\\ipykernel_10088\\3768249418.py:7: SettingWithCopyWarning: \n",
      "A value is trying to be set on a copy of a slice from a DataFrame.\n",
      "Try using .loc[row_indexer,col_indexer] = value instead\n",
      "\n",
      "See the caveats in the documentation: https://pandas.pydata.org/pandas-docs/stable/user_guide/indexing.html#returning-a-view-versus-a-copy\n",
      "C:\\Users\\Student\\AppData\\Local\\Temp\\ipykernel_10088\\3768249418.py:14: DataConversionWarning: A column-vector y was passed when a 1d array was expected. Please change the shape of y to (n_samples,), for example using ravel().\n",
      "c:\\Users\\Student\\Desktop\\LocalEnvs\\localenv\\lib\\site-packages\\sklearn\\utils\\deprecation.py:103: FutureWarning: Attribute `n_features_` was deprecated in version 1.0 and will be removed in 1.2. Use `n_features_in_` instead.\n"
     ]
    },
    {
     "data": {
      "image/png": "[encoded data removed]",
      "text/plain": [
       "<Figure size 432x288 with 2 Axes>"
      ]
     },
     "metadata": {
      "needs_background": "light"
     },
     "output_type": "display_data"
    }
   ],
   "source": [
    "# MODEL GEN\n",
    "in_out = ['data/0206_assay_novel/input_data', 'data/0206_assay_novel/output_data']\n",
    "path = 'Objects_Population - coloc AR.txt'\n",
    "model = getModel(path, [8], in_out)\n",
    "\n",
    "store_rfc_model(model, in_out[1], 'prime')"
   ]
  },
  {
   "cell_type": "code",
   "execution_count": 88,
   "metadata": {},
   "outputs": [],
   "source": [
    "features = ['coloc AR - Spot Contrast', 'coloc AR - Spot Area [px²]', 'coloc AR - Relative Spot  Intensity', 'coloc AR - Corrected Spot  Intensity', 'coloc AR - Spot To Region Intensity']"
   ]
  },
  {
   "cell_type": "markdown",
   "metadata": {},
   "source": [
    "### Predictions\n",
    "##### 1606 with 0206 prime"
   ]
  },
  {
   "cell_type": "code",
   "execution_count": 92,
   "metadata": {},
   "outputs": [
    {
     "name": "stderr",
     "output_type": "stream",
     "text": [
      "C:\\Users\\Student\\AppData\\Local\\Temp\\ipykernel_10088\\2299552489.py:11: SettingWithCopyWarning: \n",
      "A value is trying to be set on a copy of a slice from a DataFrame.\n",
      "Try using .loc[row_indexer,col_indexer] = value instead\n",
      "\n",
      "See the caveats in the documentation: https://pandas.pydata.org/pandas-docs/stable/user_guide/indexing.html#returning-a-view-versus-a-copy\n"
     ]
    }
   ],
   "source": [
    "# LOAD model\n",
    "model = pickle.load(open('data/0206_assay_novel/output_data/010722_prime/010722_prime.rfc', 'rb'))\n",
    "\n",
    "# LOAD data\n",
    "ar_coloc_1606 = opera_to_df('data/1606_assay/input_data/Objects_Population - coloc AR.txt')\n",
    "ar_wt_pos_1606_1 = ar_coloc_1606[ar_coloc_1606['Column'] == 4]\n",
    "\n",
    "X = ar_wt_pos_1606_1[features]\n",
    "\n",
    "trc_wt = model.predict(X)\n",
    "ar_wt_pos_1606_1['trc'] = trc_wt\n",
    "\n",
    "ar_wt_pos_1606_1_view = ar_wt_pos_1606_1[ar_wt_pos_1606_1['trc'] == 1]\n",
    "ar_wt_pos_1606_1_view.to_csv('data/1606_assay_novel/output_data/ar_wt_4_view.csv')"
   ]
  },
  {
   "cell_type": "code",
   "execution_count": 121,
   "metadata": {},
   "outputs": [],
   "source": [
    "ls_run_1 = []\n",
    "\n",
    "with open('data/1606_assay_novel/output_data/ran_lab_0206_prime_1.txt', 'r') as f:\n",
    "    for line in f:\n",
    "        ls_run_1.append(int(line))"
   ]
  },
  {
   "cell_type": "code",
   "execution_count": 122,
   "metadata": {},
   "outputs": [
    {
     "name": "stdout",
     "output_type": "stream",
     "text": [
      "Fold Positive Percentage: 76.0 %\n",
      "50\n"
     ]
    }
   ],
   "source": [
    "full_size = len(ls_run_1)\n",
    "full_fold = ls_run_1.count(1) + ls_run_1.count(0)\n",
    "positive_fold = ls_run_1.count(1)\n",
    "\n",
    "print(f'Fold Positive Percentage: {positive_fold/full_fold * 100} %')\n",
    "print(full_fold)"
   ]
  },
  {
   "cell_type": "code",
   "execution_count": 116,
   "metadata": {},
   "outputs": [
    {
     "data": {
      "text/plain": [
       "50"
      ]
     },
     "execution_count": 116,
     "metadata": {},
     "output_type": "execute_result"
    }
   ],
   "source": [
    "a = [38, 177, 186, 23, 95, 90, 239, 221, 188, 287, 34, 272, 206, 270, 105, 208, 49, 44, 162, 308, 86, 111, 4, 176, 140, 194, 229, 46, 132, 286, 80, 91, 253, 215, 310, 236, 98, 19, 264, 281, 85, 165, 245, 97, 61, 244, 40, 83, 79, 202]\n",
    "len(set(a))"
   ]
  },
  {
   "cell_type": "code",
   "execution_count": null,
   "metadata": {},
   "outputs": [],
   "source": []
  }
 ],
 "metadata": {
  "kernelspec": {
   "display_name": "Python 3.10.2 ('localenv')",
   "language": "python",
   "name": "python3"
  },
  "language_info": {
   "codemirror_mode": {
    "name": "ipython",
    "version": 3
   },
   "file_extension": ".py",
   "mimetype": "text/x-python",
   "name": "python",
   "nbconvert_exporter": "python",
   "pygments_lexer": "ipython3",
   "version": "3.10.2"
  },
  "orig_nbformat": 4,
  "vscode": {
   "interpreter": {
    "hash": "b7c959d6a5b77926b91d88578984f168f1207529946d5dc78330c22708e6bb6d"
   }
  }
 },
 "nbformat": 4,
 "nbformat_minor": 2
}

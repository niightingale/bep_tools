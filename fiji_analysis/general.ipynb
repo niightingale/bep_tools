{
 "cells": [
  {
   "cell_type": "code",
   "execution_count": 1,
   "metadata": {},
   "outputs": [],
   "source": [
    "import pandas as pd\n",
    "import numpy as np\n",
    "import matplotlib.pyplot as plt"
   ]
  },
  {
   "cell_type": "code",
   "execution_count": 2,
   "metadata": {},
   "outputs": [],
   "source": [
    "def opera_to_df(path, header_length = 9):\n",
    "    # Import tab separated .txt file\n",
    "    raw_df = pd.read_csv(path, sep = '\\t', skiprows = header_length)\n",
    "    raw_df = raw_df.dropna(axis = 1, how = 'all')   # Remove empty columns\n",
    "    return raw_df"
   ]
  },
  {
   "cell_type": "code",
   "execution_count": 4,
   "metadata": {},
   "outputs": [],
   "source": [
    "plate_0206 = opera_to_df('data/0206_assay_3X2/input_data/PlateResults.txt', 8)\n",
    "plate_1606 = opera_to_df('data/1606_assay_3X2/input_data/plate_results.txt', 8)\n",
    "plate_2306 = opera_to_df('data/2306_assay_3X2/input_data/PlateResults.txt', 8)"
   ]
  },
  {
   "cell_type": "code",
   "execution_count": 10,
   "metadata": {},
   "outputs": [],
   "source": [
    "plate_0206_4_5 = plate_0206[(plate_0206.Row == 4) & (plate_0206.Column == 5)]\n",
    "plate_0206_4_5_nuclei = plate_0206_4_5['Clustered Nuclei w/o Border Round Selected - Number of Objects'].mean()\n",
    "\n",
    "plate_0206_4_6 = plate_0206[(plate_0206.Row == 4) & (plate_0206.Column == 6)]\n",
    "plate_0206_4_6_nuclei = plate_0206_4_6['Clustered Nuclei w/o Border Round Selected - Number of Objects'].mean()\n",
    "\n",
    "plate_0206_4_8 = plate_0206[(plate_0206.Row == 4) & (plate_0206.Column == 8)]\n",
    "plate_0206_4_8_nuclei = plate_0206_4_8['Clustered Nuclei w/o Border Round Selected - Number of Objects'].mean()\n",
    "\n",
    "plate_0206_4_9 = plate_0206[(plate_0206.Row == 4) & (plate_0206.Column == 8)]\n",
    "plate_0206_4_9_nuclei = plate_0206_4_8['Clustered Nuclei w/o Border Round Selected - Number of Objects'].mean()"
   ]
  },
  {
   "cell_type": "code",
   "execution_count": 13,
   "metadata": {},
   "outputs": [],
   "source": [
    "plate_1606_3_6 = plate_1606[(plate_1606.Row == 3) & (plate_1606.Column == 6)]\n",
    "plate_1606_3_6_nuclei = plate_1606_3_6['Clustered Nuclei w/o Border Round Selected - Number of Objects'].mean()\n",
    "\n",
    "plate_1606_3_8 = plate_1606[(plate_1606.Row == 3) & (plate_1606.Column == 8)]\n",
    "plate_1606_3_8_nuclei = plate_1606_3_8['Clustered Nuclei w/o Border Round Selected - Number of Objects'].mean()\n",
    "\n",
    "plate_1606_3_9 = plate_1606[(plate_1606.Row == 3) & (plate_1606.Column == 9)]\n",
    "plate_1606_3_9_nuclei = plate_1606_3_9['Clustered Nuclei w/o Border Round Selected - Number of Objects'].mean()"
   ]
  },
  {
   "cell_type": "code",
   "execution_count": 17,
   "metadata": {},
   "outputs": [],
   "source": [
    "plate_2306_4_5 = plate_2306[(plate_2306.Row == 4) & (plate_2306.Column == 5)]\n",
    "plate_2306_4_5_nuclei = plate_2306_4_5['Clustered Nuclei w/o Border Round Selected - Number of Objects'].mean()\n",
    "\n",
    "plate_2306_4_6 = plate_2306[(plate_2306.Row == 4) & (plate_2306.Column == 6)]\n",
    "plate_2306_4_6_nuclei = plate_2306_4_6['Clustered Nuclei w/o Border Round Selected - Number of Objects'].mean()\n",
    "\n",
    "plate_2306_4_8 = plate_2306[(plate_2306.Row == 4) & (plate_2306.Column == 8)]\n",
    "plate_2306_4_8_nuclei = plate_2306_4_8['Clustered Nuclei w/o Border Round Selected - Number of Objects'].mean()\n",
    "\n",
    "plate_2306_5_8 = plate_2306[(plate_2306.Row == 5) & (plate_2306.Column == 8)]\n",
    "plate_2306_5_8_nuclei = plate_2306_5_8['Clustered Nuclei w/o Border Round Selected - Number of Objects'].mean()"
   ]
  },
  {
   "cell_type": "code",
   "execution_count": null,
   "metadata": {},
   "outputs": [],
   "source": []
  }
 ],
 "metadata": {
  "kernelspec": {
   "display_name": "Python 3.10.2 64-bit",
   "language": "python",
   "name": "python3"
  },
  "language_info": {
   "codemirror_mode": {
    "name": "ipython",
    "version": 3
   },
   "file_extension": ".py",
   "mimetype": "text/x-python",
   "name": "python",
   "nbconvert_exporter": "python",
   "pygments_lexer": "ipython3",
   "version": "3.10.2"
  },
  "orig_nbformat": 4,
  "vscode": {
   "interpreter": {
    "hash": "7f8544b11b15951ad994b9ccb1cbe1809869fff20a760c5a4e3908d433738c75"
   }
  }
 },
 "nbformat": 4,
 "nbformat_minor": 2
}

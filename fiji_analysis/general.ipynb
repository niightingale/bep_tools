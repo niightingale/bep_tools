{
 "cells": [
  {
   "cell_type": "code",
   "execution_count": 1,
   "metadata": {},
   "outputs": [],
   "source": [
    "import pandas as pd\n",
    "import numpy as np\n",
    "import matplotlib.pyplot as plt"
   ]
  },
  {
   "cell_type": "code",
   "execution_count": 2,
   "metadata": {},
   "outputs": [],
   "source": [
    "def opera_to_df(path, header_length = 9):\n",
    "    # Import tab separated .txt file\n",
    "    raw_df = pd.read_csv(path, sep = '\\t', skiprows = header_length)\n",
    "    raw_df = raw_df.dropna(axis = 1, how = 'all')   # Remove empty columns\n",
    "    return raw_df"
   ]
  },
  {
   "cell_type": "code",
   "execution_count": 3,
   "metadata": {},
   "outputs": [],
   "source": [
    "plate_0206 = opera_to_df('data/0206_assay_3X2/input_data/PlateResults.txt', 8)\n",
    "plate_1606 = opera_to_df('data/1606_assay_3X2/input_data/plate_results.txt', 8)\n",
    "plate_2306 = opera_to_df('data/2306_assay_3X2/input_data/PlateResults.txt', 8)"
   ]
  },
  {
   "cell_type": "code",
   "execution_count": 4,
   "metadata": {},
   "outputs": [],
   "source": [
    "plate_0206_4_5 = plate_0206[(plate_0206.Row == 4) & (plate_0206.Column == 5)]\n",
    "plate_0206_4_5_nuclei = plate_0206_4_5['Clustered Nuclei w/o Border Round Selected - Number of Objects'].mean()\n",
    "\n",
    "plate_0206_4_6 = plate_0206[(plate_0206.Row == 4) & (plate_0206.Column == 6)]\n",
    "plate_0206_4_6_nuclei = plate_0206_4_6['Clustered Nuclei w/o Border Round Selected - Number of Objects'].mean()\n",
    "\n",
    "plate_0206_4_7 = plate_0206[(plate_0206.Row == 4) & (plate_0206.Column == 7)]\n",
    "plate_0206_4_7_nuclei = plate_0206_4_7['Clustered Nuclei w/o Border Round Selected - Number of Objects'].mean()\n",
    "\n",
    "plate_0206_4_8 = plate_0206[(plate_0206.Row == 4) & (plate_0206.Column == 8)]\n",
    "plate_0206_4_8_nuclei = plate_0206_4_8['Clustered Nuclei w/o Border Round Selected - Number of Objects'].mean()"
   ]
  },
  {
   "cell_type": "code",
   "execution_count": 5,
   "metadata": {},
   "outputs": [],
   "source": [
    "plate_1606_3_6 = plate_1606[(plate_1606.Row == 3) & (plate_1606.Column == 6)]\n",
    "plate_1606_3_6_nuclei = plate_1606_3_6['Clustered Nuclei w/o Border Round Selected - Number of Objects'].mean()\n",
    "\n",
    "plate_1606_3_8 = plate_1606[(plate_1606.Row == 3) & (plate_1606.Column == 8)]\n",
    "plate_1606_3_8_nuclei = plate_1606_3_8['Clustered Nuclei w/o Border Round Selected - Number of Objects'].mean()\n",
    "\n",
    "plate_1606_3_9 = plate_1606[(plate_1606.Row == 3) & (plate_1606.Column == 9)]\n",
    "plate_1606_3_9_nuclei = plate_1606_3_9['Clustered Nuclei w/o Border Round Selected - Number of Objects'].mean()"
   ]
  },
  {
   "cell_type": "code",
   "execution_count": 6,
   "metadata": {},
   "outputs": [],
   "source": [
    "plate_2306_4_5 = plate_2306[(plate_2306.Row == 4) & (plate_2306.Column == 5)]\n",
    "plate_2306_4_5_nuclei = plate_2306_4_5['Clustered Nuclei w/o Border Round Selected - Number of Objects'].mean()\n",
    "\n",
    "plate_2306_4_6 = plate_2306[(plate_2306.Row == 4) & (plate_2306.Column == 6)]\n",
    "plate_2306_4_6_nuclei = plate_2306_4_6['Clustered Nuclei w/o Border Round Selected - Number of Objects'].mean()\n",
    "\n",
    "plate_2306_4_8 = plate_2306[(plate_2306.Row == 4) & (plate_2306.Column == 8)]\n",
    "plate_2306_4_8_nuclei = plate_2306_4_8['Clustered Nuclei w/o Border Round Selected - Number of Objects'].mean()\n",
    "\n",
    "plate_2306_5_8 = plate_2306[(plate_2306.Row == 5) & (plate_2306.Column == 8)]\n",
    "plate_2306_5_8_nuclei = plate_2306_5_8['Clustered Nuclei w/o Border Round Selected - Number of Objects'].mean()"
   ]
  },
  {
   "cell_type": "code",
   "execution_count": 25,
   "metadata": {},
   "outputs": [],
   "source": [
    "nr_wt = (plate_0206_4_8_nuclei + plate_1606_3_6_nuclei \n",
    "        + plate_2306_4_5_nuclei + plate_2306_4_6_nuclei)\n",
    "nr_c4 = (\n",
    "    plate_0206_4_6_nuclei + plate_1606_3_8_nuclei +\n",
    "    plate_1606_3_9_nuclei + plate_2306_4_8_nuclei +\n",
    "    plate_2306_5_8_nuclei\n",
    ")"
   ]
  },
  {
   "cell_type": "code",
   "execution_count": 26,
   "metadata": {},
   "outputs": [
    {
     "name": "stdout",
     "output_type": "stream",
     "text": [
      "159.1741452991453 288.4489316239316\n"
     ]
    }
   ],
   "source": [
    "print(nr_wt, nr_c4)"
   ]
  },
  {
   "cell_type": "markdown",
   "metadata": {},
   "source": [
    "### Contigency Table"
   ]
  },
  {
   "cell_type": "code",
   "execution_count": 8,
   "metadata": {},
   "outputs": [
    {
     "name": "stdout",
     "output_type": "stream",
     "text": [
      "0.013925531319219725\n",
      "0.011516827530638858\n",
      "0.034403056913974245\n"
     ]
    }
   ],
   "source": [
    "from scipy.stats import hypergeom\n",
    "from scipy.stats import fisher_exact, boschloo_exact, barnard_exact\n",
    "\n",
    "table = np.array([[20, 139], [12, 216]])\n",
    "oddsr, pa = fisher_exact(table, alternative='two-sided')\n",
    "print(pa)\n",
    "\n",
    "table = np.array([[20, 139], [12, 216]])\n",
    "pb = boschloo_exact(table, alternative='two-sided')\n",
    "print(pb.pvalue)\n",
    "\n",
    "table = np.array([[20, 139], [12, 216]])\n",
    "pc = barnard_exact(table, alternative='two-sided')\n",
    "print(pc.pvalue)\n"
   ]
  },
  {
   "cell_type": "markdown",
   "metadata": {},
   "source": [
    "Used: 562 total nuclei"
   ]
  },
  {
   "cell_type": "code",
   "execution_count": 31,
   "metadata": {},
   "outputs": [
    {
     "name": "stdout",
     "output_type": "stream",
     "text": [
      "p(0206) = 0.15846042323026738\n",
      "p(1606) = 0.0013213458870016842\n",
      "p(2306) = 1.0\n"
     ]
    }
   ],
   "source": [
    "table_0206 = np.array([[3, 67], [3, 20]])\n",
    "oddsr, pa = fisher_exact(table_0206, alternative = 'two-sided')\n",
    "print(f'p(0206) = {pa}')\n",
    "\n",
    "table_1606 = np.array([[5, 71], [16, 41]])\n",
    "oddsr, pa = fisher_exact(table_1606, alternative = 'two-sided')\n",
    "print(f'p(1606) = {pa}')\n",
    "\n",
    "table_2306 = np.array([[3, 140], [2, 77]])\n",
    "oddsr, pa = fisher_exact(table_2306, alternative = 'two-sided')\n",
    "print(f'p(2306) = {pa}')"
   ]
  },
  {
   "cell_type": "code",
   "execution_count": null,
   "metadata": {},
   "outputs": [],
   "source": []
  }
 ],
 "metadata": {
  "kernelspec": {
   "display_name": "Python 3.10.2 64-bit",
   "language": "python",
   "name": "python3"
  },
  "language_info": {
   "codemirror_mode": {
    "name": "ipython",
    "version": 3
   },
   "file_extension": ".py",
   "mimetype": "text/x-python",
   "name": "python",
   "nbconvert_exporter": "python",
   "pygments_lexer": "ipython3",
   "version": "3.10.2"
  },
  "orig_nbformat": 4,
  "vscode": {
   "interpreter": {
    "hash": "7f8544b11b15951ad994b9ccb1cbe1809869fff20a760c5a4e3908d433738c75"
   }
  }
 },
 "nbformat": 4,
 "nbformat_minor": 2
}

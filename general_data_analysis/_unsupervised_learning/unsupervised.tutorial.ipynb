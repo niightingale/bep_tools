{
 "cells": [
  {
   "attachments": {},
   "cell_type": "markdown",
   "metadata": {
    "datalore": {
     "hide_input_from_viewers": false,
     "hide_output_from_viewers": false,
     "type": "MD"
    }
   },
   "source": [
    "# TI3130: Unsupervised Learning &mdash; Tutorial\n",
    "**Julián Urbano &mdash; January 2022**\n",
    "\n",
    "## 1. Introduction\n",
    "\n",
    "The purpose of this lab is to introduce you to clustering and PCA analysis in Python. Just as we did in the _Classification_ lab, we will use package [Scikit-learn](https://scikit-learn.org/). As usual, we will use NumPy, Pandas and Plotnine where necessary, as well as Statsmodels near the end."
   ]
  },
  {
   "cell_type": "code",
   "execution_count": 1,
   "metadata": {
    "datalore": {
     "hide_input_from_viewers": false,
     "hide_output_from_viewers": false,
     "type": "CODE"
    }
   },
   "outputs": [
    {
     "name": "stdout",
     "output_type": "stream",
     "text": [
      "python 3.10.2 (tags/v3.10.2:a58ebcc, Jan 17 2022, 14:12:15) [MSC v.1929 64 bit (AMD64)] \n",
      "numpy 1.22.4 \n",
      "pandas 1.4.2 \n",
      "plotnine 0.8.0 \n",
      "statsmodels 0.13.2 \n",
      "sklearn 1.1.1\n"
     ]
    }
   ],
   "source": [
    "import sys\n",
    "import numpy as np\n",
    "import pandas as pd\n",
    "from plotnine import *\n",
    "from plotnine import __version__ as p9__version__\n",
    "import statsmodels.api as sm\n",
    "import statsmodels.formula.api as smf\n",
    "from sklearn import __version__ as sk__version__\n",
    "\n",
    "print(\"python\", sys.version,\n",
    "      \"\\nnumpy\", np.__version__,\n",
    "      \"\\npandas\", pd.__version__,\n",
    "      \"\\nplotnine\", p9__version__,\n",
    "      \"\\nstatsmodels\", sm.__version__,\n",
    "      \"\\nsklearn\", sk__version__)"
   ]
  },
  {
   "attachments": {},
   "cell_type": "markdown",
   "metadata": {
    "datalore": {
     "hide_input_from_viewers": false,
     "hide_output_from_viewers": false,
     "type": "MD"
    }
   },
   "source": [
    "For this lab we will use the _Heart disease_ dataset, as well as the _Whiskey taste_ dataset. Note that we again convert string-like variables into categorical columns."
   ]
  },
  {
   "cell_type": "code",
   "execution_count": 2,
   "metadata": {
    "datalore": {
     "hide_input_from_viewers": false,
     "hide_output_from_viewers": false,
     "type": "CODE"
    }
   },
   "outputs": [
    {
     "name": "stdout",
     "output_type": "stream",
     "text": [
      "<class 'pandas.core.frame.DataFrame'>\n",
      "RangeIndex: 297 entries, 0 to 296\n",
      "Data columns (total 14 columns):\n",
      " #   Column     Non-Null Count  Dtype   \n",
      "---  ------     --------------  -----   \n",
      " 0   ahd        297 non-null    category\n",
      " 1   age        297 non-null    int64   \n",
      " 2   sex        297 non-null    category\n",
      " 3   chestpain  297 non-null    category\n",
      " 4   restbp     297 non-null    int64   \n",
      " 5   chol       297 non-null    int64   \n",
      " 6   fbs        297 non-null    category\n",
      " 7   restecg    297 non-null    category\n",
      " 8   maxhr      297 non-null    int64   \n",
      " 9   exang      297 non-null    category\n",
      " 10  oldpeak    297 non-null    float64 \n",
      " 11  slope      297 non-null    category\n",
      " 12  ca         297 non-null    int64   \n",
      " 13  thal       297 non-null    category\n",
      "dtypes: category(8), float64(1), int64(5)\n",
      "memory usage: 17.4 KB\n",
      "<class 'pandas.core.frame.DataFrame'>\n",
      "RangeIndex: 86 entries, 0 to 85\n",
      "Data columns (total 16 columns):\n",
      " #   Column      Non-Null Count  Dtype   \n",
      "---  ------      --------------  -----   \n",
      " 0   distillery  86 non-null     category\n",
      " 1   body        86 non-null     int64   \n",
      " 2   sweetness   86 non-null     int64   \n",
      " 3   smoky       86 non-null     int64   \n",
      " 4   medicinal   86 non-null     int64   \n",
      " 5   tobacco     86 non-null     int64   \n",
      " 6   honey       86 non-null     int64   \n",
      " 7   spicy       86 non-null     int64   \n",
      " 8   winey       86 non-null     int64   \n",
      " 9   nutty       86 non-null     int64   \n",
      " 10  malty       86 non-null     int64   \n",
      " 11  fruity      86 non-null     int64   \n",
      " 12  floral      86 non-null     int64   \n",
      " 13  postcode    86 non-null     category\n",
      " 14  latitude    86 non-null     int64   \n",
      " 15  longitude   86 non-null     int64   \n",
      "dtypes: category(2), int64(14)\n",
      "memory usage: 15.1 KB\n"
     ]
    }
   ],
   "source": [
    "heart = pd.read_csv('heart.csv')\n",
    "for col in heart.select_dtypes('object').columns:\n",
    "    heart[col] = pd.Categorical(heart[col])\n",
    "heart.info()\n",
    "\n",
    "whiskey = pd.read_csv('whiskey.csv')\n",
    "for col in whiskey.select_dtypes('object').columns:\n",
    "    whiskey[col] = pd.Categorical(whiskey[col])\n",
    "whiskey.info()"
   ]
  },
  {
   "attachments": {},
   "cell_type": "markdown",
   "metadata": {
    "datalore": {
     "hide_input_from_viewers": false,
     "hide_output_from_viewers": false,
     "type": "MD"
    }
   },
   "source": [
    "## 2. K-means Clustering\n",
    "\n",
    "We can perform k-means clustering with Scikit-learn's [`KMeans`](https://scikit-learn.org/stable/modules/generated/sklearn.cluster.KMeans.html). Contrary to other algorithms, we do not specify the model with a formula-like expression, nor with an `X` and a `y`, because there is no notion of dependent and independent variables. Instead, `KMeans` simply receives a dataset we want to cluster with, and it will use _all_ variables in it. If we want to cluster only according to some variables, we'll need to make that explicit by passing a dataframe with a subset of columns.\n",
    "\n",
    "Let's see how well k-means clustering works in grouping whiskey brands by `latitude` and `longitude` alone. The geographical distribution of whiskeys is as follows:"
   ]
  },
  {
   "cell_type": "code",
   "execution_count": 3,
   "metadata": {
    "datalore": {
     "hide_input_from_viewers": false,
     "hide_output_from_viewers": false,
     "type": "CODE"
    }
   },
   "outputs": [
    {
     "data": {
      "image/png": "[encoded data removed]",
      "text/plain": [
       "<Figure size 432x288 with 1 Axes>"
      ]
     },
     "metadata": {},
     "output_type": "display_data"
    },
    {
     "data": {
      "text/plain": [
       "<ggplot: (149579012292)>"
      ]
     },
     "execution_count": 3,
     "metadata": {},
     "output_type": "execute_result"
    }
   ],
   "source": [
    "ggplot(whiskey, aes('longitude', 'latitude')) +\\\n",
    "  geom_point(alpha = .25)"
   ]
  },
  {
   "attachments": {},
   "cell_type": "markdown",
   "metadata": {
    "datalore": {
     "hide_input_from_viewers": false,
     "hide_output_from_viewers": false,
     "type": "MD"
    }
   },
   "source": [
    "There seem to be two or three clusters, so let's try both through argument `n_clusters`. As with SVM models, it's a good idea to standardize the features prior to clustering, to avoid some features having a large impact only because of units or magnitudes."
   ]
  },
  {
   "cell_type": "code",
   "execution_count": 4,
   "metadata": {
    "datalore": {
     "hide_input_from_viewers": false,
     "hide_output_from_viewers": false,
     "type": "CODE"
    }
   },
   "outputs": [
    {
     "data": {
      "image/png": "[encoded data removed]",
      "text/plain": [
       "<Figure size 640x480 with 1 Axes>"
      ]
     },
     "metadata": {},
     "output_type": "display_data"
    },
    {
     "data": {
      "text/plain": [
       "<ggplot: (149582354255)>"
      ]
     },
     "execution_count": 4,
     "metadata": {},
     "output_type": "execute_result"
    }
   ],
   "source": [
    "from sklearn.cluster import KMeans\n",
    "from sklearn.preprocessing import StandardScaler\n",
    "\n",
    "# selection of columns \n",
    "X = whiskey[['longitude', 'latitude']]\n",
    "# standardize so all columns have zero mean and unit variance\n",
    "X_scaled = StandardScaler().fit(X).transform(X)\n",
    "\n",
    "# run k-means clustering with k=2\n",
    "# we set the random_state for reproducibility\n",
    "m = KMeans(n_clusters = 2, random_state = 12345).fit(X_scaled) \n",
    "\n",
    "# create a new categorical column for the cluster\n",
    "whiskey['_cluster'] = pd.Categorical(m.labels_)\n",
    "\n",
    "# plot the data using colors to identify clusters\n",
    "ggplot(whiskey, aes('longitude', 'latitude', color = '_cluster')) +\\\n",
    "  geom_point() +\\\n",
    "  labs(title = \"Cluster by latitude and longitude, k=2\")"
   ]
  },
  {
   "cell_type": "code",
   "execution_count": 5,
   "metadata": {
    "datalore": {
     "hide_input_from_viewers": false,
     "hide_output_from_viewers": false,
     "type": "CODE"
    }
   },
   "outputs": [
    {
     "data": {
      "image/png": "[encoded data removed]",
      "text/plain": [
       "<Figure size 640x480 with 1 Axes>"
      ]
     },
     "metadata": {},
     "output_type": "display_data"
    },
    {
     "data": {
      "text/plain": [
       "<ggplot: (149580125299)>"
      ]
     },
     "execution_count": 5,
     "metadata": {},
     "output_type": "execute_result"
    }
   ],
   "source": [
    "# run k-means clustering with k=3\n",
    "m = KMeans(n_clusters = 3, random_state = 12345).fit(X_scaled) \n",
    "whiskey['_cluster'] = pd.Categorical(m.labels_)\n",
    "\n",
    "ggplot(whiskey, aes('longitude', 'latitude', color = '_cluster')) +\\\n",
    "  geom_point() +\\\n",
    "  labs(title = \"Cluster by latitude and longitude, k=3\")"
   ]
  },
  {
   "attachments": {},
   "cell_type": "markdown",
   "metadata": {
    "datalore": {
     "hide_input_from_viewers": false,
     "hide_output_from_viewers": false,
     "type": "MD"
    }
   },
   "source": [
    "Note that we set a `random_state` so that we can reproduce our results (different states can potentially lead to different clusters, because the initialization is different). Note also that we selected only two variables for clustering (`longitude` and `latitude`, because we are interested in geographical clusters), but in general one would cluster with all available data. Finally, note that, after the algorithm figures out the clusters for us, we create a new column `_cluster` in the data frame, which identifies which cluster each row belongs to.\n",
    "\n",
    "We can always check how good the clusters are by looking at the within-cluster sum of squares, which is accessible through attribute `inertia_`. Let's try $k$ from 2 up to 10:"
   ]
  },
  {
   "cell_type": "code",
   "execution_count": 6,
   "metadata": {
    "datalore": {
     "hide_input_from_viewers": false,
     "hide_output_from_viewers": false,
     "type": "CODE"
    }
   },
   "outputs": [
    {
     "data": {
      "image/png": "[encoded data removed]",
      "text/plain": [
       "<Figure size 640x480 with 1 Axes>"
      ]
     },
     "metadata": {},
     "output_type": "display_data"
    },
    {
     "data": {
      "text/plain": [
       "<ggplot: (149582381873)>"
      ]
     },
     "execution_count": 6,
     "metadata": {},
     "output_type": "execute_result"
    }
   ],
   "source": [
    "K = range(2, 11)\n",
    "withinSS = []\n",
    "\n",
    "# create models and calculate scores\n",
    "for k in K:\n",
    "    m = KMeans(n_clusters = k, random_state = 12345).fit(X_scaled) \n",
    "    # access to the total sum of squares directly from the model\n",
    "    withinSS.append(m.inertia_)\n",
    "\n",
    "# plot the scores\n",
    "ggplot(aes(K, withinSS)) +\\\n",
    "  geom_point()"
   ]
  },
  {
   "attachments": {},
   "cell_type": "markdown",
   "metadata": {
    "datalore": {
     "hide_input_from_viewers": false,
     "hide_output_from_viewers": false,
     "type": "MD"
    }
   },
   "source": [
    "It looks like 5 or 6 clusters are appropriate, but recall that we are clustering only based on `latitude` and `longitude`, which is probably not very useful. Let's cluster according to the 12 taste scores and check more values for $k$:"
   ]
  },
  {
   "cell_type": "code",
   "execution_count": null,
   "metadata": {
    "datalore": {
     "hide_input_from_viewers": false,
     "hide_output_from_viewers": false,
     "type": "CODE"
    }
   },
   "outputs": [],
   "source": [
    "# select and scale the 12 taste variables\n",
    "X = whiskey.loc[:, 'body':'floral']\n",
    "X_scaled = StandardScaler().fit(X).transform(X)\n",
    "\n",
    "K = range(2, 21)\n",
    "withinSS = []\n",
    "\n",
    "# create models and calculate scores\n",
    "for k in K:\n",
    "    m = KMeans(n_clusters = k, random_state = 12345).fit(X_scaled) \n",
    "    withinSS.append(m.inertia_)\n",
    "\n",
    "# plot the scores\n",
    "ggplot(aes(K, withinSS)) +\\\n",
    "  geom_point()"
   ]
  },
  {
   "attachments": {},
   "cell_type": "markdown",
   "metadata": {
    "datalore": {
     "hide_input_from_viewers": false,
     "hide_output_from_viewers": false,
     "type": "MD"
    }
   },
   "source": [
    "Note that we use all columns between `body` and `floral`, which are the 12 taste ratings. In this case there is no clear elbow, so we would have to choose $k$ based on some other criteria, probably involving domain knowledge.\n",
    "\n",
    "## 3. Hierarchical Clustering\n",
    "\n",
    "Alternatively, we can use hierarchical clustering to come up with a tree-like structure that we can prune afterwards. For this we will use Scikit-learn's [`AgglomerativeClustering`](https://scikit-learn.org/stable/modules/generated/sklearn.cluster.AgglomerativeClustering.html). We can run it directly specifying how many clusters we want to end up with, such that the tree will be pruned as necessary. Let's try with $k$=3:"
   ]
  },
  {
   "cell_type": "code",
   "execution_count": null,
   "metadata": {
    "datalore": {
     "hide_input_from_viewers": false,
     "hide_output_from_viewers": false,
     "type": "CODE"
    }
   },
   "outputs": [],
   "source": [
    "from sklearn.cluster import AgglomerativeClustering\n",
    "\n",
    "# cluster with the re-scaled features\n",
    "m = AgglomerativeClustering(n_clusters = 3).fit(X_scaled)\n",
    "m.labels_ # these are the clusters"
   ]
  },
  {
   "attachments": {},
   "cell_type": "markdown",
   "metadata": {
    "datalore": {
     "hide_input_from_viewers": false,
     "hide_output_from_viewers": false,
     "type": "MD"
    }
   },
   "source": [
    "The advantage of hierarchical clustering though, is that we can decide a suitable number of clusters after taking a look at the full dendrogram, so we should first run the algorithm with argument `compute_full_tree = True`. Unfortunately, Scikit-learn does not have a built-in visualization function, but [they recommend](https://scikit-learn.org/stable/auto_examples/cluster/plot_agglomerative_dendrogram.html) using Scipy's [`dendrogram`](https://docs.scipy.org/doc/scipy/reference/generated/scipy.cluster.hierarchy.dendrogram.html) through the following custom function (as with the cross-validation function `kfold_cv` in the _Classification_ lab, you don't need to understand this function, but just how to use it)."
   ]
  },
  {
   "cell_type": "code",
   "execution_count": null,
   "metadata": {
    "datalore": {
     "hide_input_from_viewers": false,
     "hide_output_from_viewers": false,
     "type": "CODE"
    }
   },
   "outputs": [],
   "source": [
    "from scipy.cluster.hierarchy import dendrogram\n",
    "import matplotlib.pyplot as plt\n",
    "\n",
    "def plot_dendrogram(model, labels, figsize=(14,6), **kwargs):\n",
    "    # create the counts of samples under each node\n",
    "    counts = np.zeros(model.children_.shape[0])\n",
    "    n_samples = len(model.labels_)\n",
    "    for i, merge in enumerate(model.children_):\n",
    "        current_count = 0\n",
    "        for child_idx in merge:\n",
    "            if child_idx < n_samples:\n",
    "                current_count += 1  # leaf node\n",
    "            else:\n",
    "                current_count += counts[child_idx - n_samples]\n",
    "        counts[i] = current_count\n",
    "\n",
    "    linkage_matrix = np.column_stack([model.children_, model.distances_, counts]).astype(float)\n",
    "\n",
    "    # Plot the corresponding dendrogram\n",
    "    plt.figure(figsize=(14,6))\n",
    "    dendrogram(linkage_matrix, color_threshold = 0, leaf_rotation = 90, labels=labels, **kwargs)"
   ]
  },
  {
   "attachments": {},
   "cell_type": "markdown",
   "metadata": {
    "datalore": {
     "hide_input_from_viewers": false,
     "hide_output_from_viewers": false,
     "type": "MD"
    }
   },
   "source": [
    "We pass to the function the clustering `model` we want to visualize, and the `labels` of the instances, to quickly identify them in the dendrogram. This function requires us to run the clustering algorithm with argument `compute_distances = True` in order to make the length of a branch match the distance between its children.\n",
    "\n",
    "Let's build the full clustering tree and plot it:"
   ]
  },
  {
   "cell_type": "code",
   "execution_count": null,
   "metadata": {
    "datalore": {
     "hide_input_from_viewers": false,
     "hide_output_from_viewers": false,
     "type": "CODE"
    }
   },
   "outputs": [],
   "source": [
    "m = AgglomerativeClustering(compute_full_tree = True, # to decide the number of clusters\n",
    "                            compute_distances = True  # to make branch length meaningful in the plot\n",
    "                           ).fit(X_scaled)\n",
    "\n",
    "plot_dendrogram(m, whiskey['distillery'].array)"
   ]
  },
  {
   "attachments": {},
   "cell_type": "markdown",
   "metadata": {
    "datalore": {
     "hide_input_from_viewers": false,
     "hide_output_from_viewers": false,
     "type": "MD"
    }
   },
   "source": [
    "Note that we used the whiskey `distillery` names to identify instances. Here we can make a decision about how many clusters we want based on the tree alone. Let's prune so that we have $k$=5 clusters:"
   ]
  },
  {
   "cell_type": "code",
   "execution_count": null,
   "metadata": {
    "datalore": {
     "hide_input_from_viewers": false,
     "hide_output_from_viewers": false,
     "type": "CODE"
    }
   },
   "outputs": [],
   "source": [
    "m = AgglomerativeClustering(n_clusters = 5).fit(X_scaled)\n",
    "m.labels_ # these are the clusters"
   ]
  },
  {
   "attachments": {},
   "cell_type": "markdown",
   "metadata": {
    "datalore": {
     "hide_input_from_viewers": false,
     "hide_output_from_viewers": false,
     "type": "MD"
    }
   },
   "source": [
    "## 4. Interpretation of Clusters\n",
    "\n",
    "Interpreting clusters usually requires domain knowledge. However, supervised learning may help us if we build an easily interpretable classifier to predict the cluster based on the other features.\n",
    "\n",
    "First we need to compute the clusters, assign them to a column in the data frame, and make that column a Pandas' categorical column to use it as the response of a classifier. As an example, let's use the previous clustering model."
   ]
  },
  {
   "cell_type": "code",
   "execution_count": null,
   "metadata": {
    "datalore": {
     "hide_input_from_viewers": false,
     "hide_output_from_viewers": false,
     "type": "CODE"
    }
   },
   "outputs": [],
   "source": [
    "# Make a new column _y for the response\n",
    "whiskey['_y'] = pd.Categorical(m.labels_.astype('str'))"
   ]
  },
  {
   "attachments": {},
   "cell_type": "markdown",
   "metadata": {
    "datalore": {
     "hide_input_from_viewers": false,
     "hide_output_from_viewers": false,
     "type": "MD"
    }
   },
   "source": [
    "Let's use classification trees to predict the cluster based on the 12 taste ratings:"
   ]
  },
  {
   "cell_type": "code",
   "execution_count": null,
   "metadata": {
    "datalore": {
     "hide_input_from_viewers": false,
     "hide_output_from_viewers": false,
     "type": "CODE"
    }
   },
   "outputs": [],
   "source": [
    "from sklearn import tree\n",
    "import graphviz\n",
    "\n",
    "# create tree classifier and plot it\n",
    "y = whiskey['_y']\n",
    "m_tree1 = tree.DecisionTreeClassifier(random_state = 12345).fit(X_scaled, y)\n",
    "\n",
    "dot_data = tree.export_graphviz(m_tree1, feature_names = X.columns.values, class_names = y.cat.categories, \\\n",
    "                                impurity = False, node_ids = False)\n",
    "graphviz.Source(dot_data)"
   ]
  },
  {
   "attachments": {},
   "cell_type": "markdown",
   "metadata": {
    "datalore": {
     "hide_input_from_viewers": false,
     "hide_output_from_viewers": false,
     "type": "MD"
    }
   },
   "source": [
    "Notice how we only selected column `_y` as the response, and the 12 variables we used for clustering as the features to the decision tree. Looks like this tree is too complicated to make simple descriptions of the clusters. Let's simplify by pruning with a maximum number of leaf nodes equal to the number of clusters:"
   ]
  },
  {
   "cell_type": "code",
   "execution_count": null,
   "metadata": {
    "datalore": {
     "hide_input_from_viewers": false,
     "hide_output_from_viewers": false,
     "type": "CODE"
    }
   },
   "outputs": [],
   "source": [
    "# create tree classifier and plot\n",
    "m_tree2 = tree.DecisionTreeClassifier(max_leaf_nodes = 5, random_state = 12345).fit(X_scaled, y)\n",
    "\n",
    "dot_data = tree.export_graphviz(m_tree2, feature_names = X.columns, class_names = y.cat.categories, \\\n",
    "                                impurity = False, node_ids = False)\n",
    "graphviz.Source(dot_data)"
   ]
  },
  {
   "attachments": {},
   "cell_type": "markdown",
   "metadata": {
    "datalore": {
     "hide_input_from_viewers": false,
     "hide_output_from_viewers": false,
     "type": "MD"
    }
   },
   "source": [
    "This second tree is too simple, as it never predicts cluster number 4, so let's try a bit more complexity by setting the number of leaves to 6."
   ]
  },
  {
   "cell_type": "code",
   "execution_count": null,
   "metadata": {
    "datalore": {
     "hide_input_from_viewers": false,
     "hide_output_from_viewers": false,
     "type": "CODE"
    }
   },
   "outputs": [],
   "source": [
    "# create tree classifier and plot\n",
    "m_tree3 = tree.DecisionTreeClassifier(max_leaf_nodes = 6).fit(X_scaled, y)\n",
    "\n",
    "dot_data = tree.export_graphviz(m_tree3, feature_names = X.columns, class_names = y.cat.categories, \\\n",
    "                                impurity = False, node_ids = False)\n",
    "graphviz.Source(dot_data)"
   ]
  },
  {
   "attachments": {},
   "cell_type": "markdown",
   "metadata": {
    "datalore": {
     "hide_input_from_viewers": false,
     "hide_output_from_viewers": false,
     "type": "MD"
    }
   },
   "source": [
    "This classification tree now offers us some clear and simple criteria to describe clusters. For example, cluster 2 contains whiskeys with a high winey taste (recall that variables are standardized to zero mean and unit variance). Cluster 3 contains whiskeys with very high tobacco taste but not very high medicinal taste. Such descriptions may be simplistic, but they give us some _initial insight_ as to why some whiskeys are put together in a cluster.\n",
    "\n",
    "## 5. Principal Component Analysis\n",
    "\n",
    "We will now use Scikit-learn's [`PCA`](https://scikit-learn.org/stable/modules/generated/sklearn.decomposition.PCA.html) to build PCA models. Important uses of PCA include understanding relationships among variables, aiding in the interpretation of high-dimensional data, or simplifying supervised learning problems. In all these cases, it's important that we plot the PCA model from different perspectives, but, unfortunately again, Scikit-learn doesn't contain functions to visualize a PCA model. We will use the following custom functions for that purpose (as usual, you don't need to understand what these functions do internally; in the following we will show how to use them):"
   ]
  },
  {
   "cell_type": "code",
   "execution_count": null,
   "metadata": {
    "datalore": {
     "hide_input_from_viewers": false,
     "hide_output_from_viewers": false,
     "type": "CODE"
    }
   },
   "outputs": [],
   "source": [
    "import matplotlib.pyplot as plt\n",
    "from matplotlib import cm\n",
    "\n",
    "def pca_summary(pca_model):\n",
    "    sdev = np.sqrt(pca_model.explained_variance_)\n",
    "    var_cor = np.apply_along_axis(lambda c: c*sdev, 0, pca_model.components_)\n",
    "    var_cos2 = var_cor**2\n",
    "    comp_cos2 = np.sum(var_cos2, 1)\n",
    "    var_contrib = np.apply_along_axis(lambda c: c/comp_cos2, 0, var_cos2)\n",
    "    return var_cor, var_contrib\n",
    "\n",
    "def pca_screeplot(pca_model, figsize=(8,6)):\n",
    "    \"\"\"\n",
    "    Shows a barplot of the fraction of variance explained by each PC.\n",
    "    \"\"\"\n",
    "    var_cor, var_contrib = pca_summary(pca_model)\n",
    "    dim = np.arange(var_cor.shape[1])\n",
    "    var = pca_model.explained_variance_ratio_\n",
    "\n",
    "    plt.figure(figsize=figsize)\n",
    "    plt.rc('axes', axisbelow=True)\n",
    "    plt.grid(axis = 'y', linewidth = 0.5)\n",
    "    plt.bar(dim, 100*var)\n",
    "    plt.xticks(dim, dim+1)\n",
    "    plt.xlabel('Component')\n",
    "    plt.ylabel('Explained variance (%)')\n",
    "    plt.title('Scree plot')\n",
    "    plt.show()\n",
    "\n",
    "def pca_corplot(pca_model, column_names, comp = [0,1], figsize=(6,6)):\n",
    "    \"\"\"\n",
    "    Shows the variables in a correlation circle.\n",
    "    The projection of each variable on a PC represents its correlation with that PC.\n",
    "    \"\"\"\n",
    "    var_cor, var_contrib = pca_summary(pca_model)\n",
    "    \n",
    "    plt.figure(figsize=figsize)\n",
    "    plt.rc('axes', axisbelow=True)\n",
    "    plt.grid(linewidth = 0.5)\n",
    "    plt.axhline(linestyle='--', color='k')\n",
    "    plt.axvline(linestyle='--', color='k')\n",
    "    plt.gcf().gca().add_patch(plt.Circle((0,0),1,color='grey',fill=False))\n",
    "    plt.xlim([-1.1,1.1])\n",
    "    plt.ylim([-1.1,1.1])\n",
    "    plt.xlabel(f'PC{comp[0]+1}')\n",
    "    plt.ylabel(f'PC{comp[1]+1}')\n",
    "    plt.title(f'Correlation circle PC{comp[0]+1}-PC{comp[1]+1}')\n",
    "\n",
    "    for i in range(pca_model.n_components_):\n",
    "        x = var_cor[comp[0],i]\n",
    "        y = var_cor[comp[1],i]\n",
    "        plt.arrow(0,0,x,y, color='k',\n",
    "                 head_length=.025, head_width=.025, length_includes_head=True)\n",
    "        plt.text(x,y,\n",
    "                 horizontalalignment='left' if x>0 else 'right',\n",
    "                 verticalalignment='bottom' if y>0 else 'top',\n",
    "                 color='k', s=list(column_names)[i])\n",
    "    plt.show()\n",
    "\n",
    "def pca_contribplot(pca_model, column_names, comp = 0, figsize=(8,6)):\n",
    "    \"\"\"\n",
    "    Shows a barplot of the contribution of each variable to a PC.\n",
    "    \"\"\"\n",
    "    var_cor, var_contrib = pca_summary(pca_model)\n",
    "    dim = np.arange(var_cor.shape[1])\n",
    "    i = (-var_contrib[comp]).argsort()\n",
    "\n",
    "    plt.figure(figsize=figsize)\n",
    "    plt.rc('axes', axisbelow=True)\n",
    "    plt.grid(axis = 'y', linewidth = 0.5)\n",
    "    plt.bar(dim, 100*var_contrib[comp][i])\n",
    "    plt.axhline(y=100/len(dim), linestyle='--', color='r')\n",
    "    plt.xticks(dim, column_names[i])\n",
    "    plt.ylabel('Contribution (%)')\n",
    "    plt.title(f'Contribution of variables to PC{comp+1}')\n",
    "    plt.show()\n",
    "\n",
    "def pca_biplot(X, pca_model, column_names, comp = [0,1], clusters = None, labels = None, figsize=(12,10)):\n",
    "    \"\"\"\n",
    "    Shows a scatterplot showing each observation in the 2D space defined by two PCs,\n",
    "    along with the vectors corresponding to each feature.\n",
    "    Observations can optionally be identified by a label and a color (eg. to identify clusters).\n",
    "    Adapted from https://jbhender.github.io/Stats506/F17/Projects/G18.html\n",
    "    \"\"\"\n",
    "    xvector = pca_model.components_[comp[0]]\n",
    "    yvector = pca_model.components_[comp[1]]\n",
    "\n",
    "    xs = pca_model.transform(X)[:,comp[0]]\n",
    "    ys = pca_model.transform(X)[:,comp[1]]\n",
    "        \n",
    "    plt.figure(figsize=figsize)\n",
    "    plt.rc('axes', axisbelow=True)\n",
    "    plt.grid(linewidth = 0.5)\n",
    "    plt.axhline(linestyle='--', color='k')\n",
    "    plt.axvline(linestyle='--', color='k')\n",
    "    plt.xlim([min([0, min(xs), min(xvector*max(xs)*1.1)]),\n",
    "              max([0, max(xs), max(xvector*max(xs)*1.1)])\n",
    "             ])\n",
    "    plt.ylim([min([0, min(ys), min(yvector*max(ys)*1.1)]),\n",
    "              max([0, max(ys), max(yvector*max(ys)*1.1)])\n",
    "             ])\n",
    "    plt.xlabel(f'PC{comp[0]+1}')\n",
    "    plt.ylabel(f'PC{comp[1]+1}')\n",
    "    plt.title(f'Biplot PC{comp[0]+1}-PC{comp[1]+1}')\n",
    "    \n",
    "    # plot vectors\n",
    "    for i in range(len(xvector)):\n",
    "        x = xvector[i]*max(xs)\n",
    "        y = yvector[i]*max(ys)\n",
    "        plt.arrow(0, 0, x, y, color='k',\n",
    "                 head_length=.1, head_width=.1, length_includes_head=True)\n",
    "        plt.text(x*1.1, y*1.1, color='k', s=list(column_names)[i])\n",
    "\n",
    "    # plot observations+\n",
    "    colors = cm.get_cmap('tab10').colors\n",
    "    if clusters is None:\n",
    "        clusters = np.zeros(X.shape[0], dtype=int)\n",
    "    if labels is None:\n",
    "        labels = np.arange(X.shape[0]).astype('str')\n",
    "    for i in range(len(set(clusters))):\n",
    "        plt.plot(0,0, color = colors[i], label=str(i)) # only to make sure the legend appears\n",
    "    plt.legend()\n",
    "    for i in range(len(xs)):\n",
    "        plt.text(xs[i], ys[i], color = colors[clusters[i]], label=str(clusters[i]), s = labels[i])"
   ]
  },
  {
   "attachments": {},
   "cell_type": "markdown",
   "metadata": {
    "datalore": {
     "hide_input_from_viewers": false,
     "hide_output_from_viewers": false,
     "type": "MD"
    }
   },
   "source": [
    "The _Heart_ dataset contains 6 numerical variables and 8 categorical (one of them being `ahd`, that tells us whether the patient had the disease). Let's use PCA to try and better understand these variables and, possibly, plot all the data in a 2D scatterplot. First, we build a PCA model `g` with all numerical features, standardizing again:"
   ]
  },
  {
   "cell_type": "code",
   "execution_count": null,
   "metadata": {
    "datalore": {
     "hide_input_from_viewers": false,
     "hide_output_from_viewers": false,
     "type": "CODE"
    }
   },
   "outputs": [],
   "source": [
    "from sklearn.decomposition import PCA\n",
    "\n",
    "# select numerical variables and standardize them\n",
    "X = heart.select_dtypes('number')\n",
    "X_scaled = StandardScaler().fit(X).transform(X)\n",
    "\n",
    "# create the PCA model\n",
    "g = PCA().fit(X_scaled)"
   ]
  },
  {
   "attachments": {},
   "cell_type": "markdown",
   "metadata": {
    "datalore": {
     "hide_input_from_viewers": false,
     "hide_output_from_viewers": false,
     "type": "MD"
    }
   },
   "source": [
    "We can diagnose the model with a [scree plot](https://en.wikipedia.org/wiki/Scree_plot) using our custom function `pca_screeplot`, which shows the fraction of variance explained by each of the principal components. "
   ]
  },
  {
   "cell_type": "code",
   "execution_count": null,
   "metadata": {
    "datalore": {
     "hide_input_from_viewers": false,
     "hide_output_from_viewers": false,
     "type": "CODE"
    }
   },
   "outputs": [],
   "source": [
    "pca_screeplot(g)"
   ]
  },
  {
   "attachments": {},
   "cell_type": "markdown",
   "metadata": {
    "datalore": {
     "hide_input_from_viewers": false,
     "hide_output_from_viewers": false,
     "type": "MD"
    }
   },
   "source": [
    "We can see that the first principal component retains almost 35% of the total variance in the data, the second component retains about 18%, the third one 15%, etc. It appears that we can reduce the dataset to just two or three dimensions.\n",
    "\n",
    "Let's see how the original variables relate to the principal components through a correlation circle using our custom function `pca_corplot`. In this plot, the correlation between a variable and a principal component is used as the coordinates of the variable on the component. Let's take a look at the first two components:"
   ]
  },
  {
   "cell_type": "code",
   "execution_count": null,
   "metadata": {
    "datalore": {
     "hide_input_from_viewers": false,
     "hide_output_from_viewers": false,
     "type": "CODE"
    }
   },
   "outputs": [],
   "source": [
    "pca_corplot(g, X.columns.values, comp = [0,1])"
   ]
  },
  {
   "attachments": {},
   "cell_type": "markdown",
   "metadata": {
    "datalore": {
     "hide_input_from_viewers": false,
     "hide_output_from_viewers": false,
     "type": "MD"
    }
   },
   "source": [
    "We can see that `age` and `ca` have a strong positive correlation with the first component (PC1, along the _x_ axis), but not so with the second component (PC2, along the _y_ axis). However, `chol` has a strong correlation with the second component, while `restbp` and `maxhr` are mildly correlated with both PC1 and PC2.\n",
    "\n",
    "Let's take a look at the first and third components:"
   ]
  },
  {
   "cell_type": "code",
   "execution_count": null,
   "metadata": {
    "datalore": {
     "hide_input_from_viewers": false,
     "hide_output_from_viewers": false,
     "type": "CODE"
    }
   },
   "outputs": [],
   "source": [
    "pca_corplot(g, X.columns.values, comp = [0,2])"
   ]
  },
  {
   "attachments": {},
   "cell_type": "markdown",
   "metadata": {
    "datalore": {
     "hide_input_from_viewers": false,
     "hide_output_from_viewers": false,
     "type": "MD"
    }
   },
   "source": [
    "The third component PC3 is mostly defined by `chol` and `restbp`, though in opposite directions.\n",
    "\n",
    "A direct quantification of how much each variable contributes to each component is also possible to visualize with our custom function `pca_contribplot`:"
   ]
  },
  {
   "cell_type": "code",
   "execution_count": null,
   "metadata": {
    "datalore": {
     "hide_input_from_viewers": false,
     "hide_output_from_viewers": false,
     "type": "CODE"
    }
   },
   "outputs": [],
   "source": [
    "pca_contribplot(g, X.columns.values, comp = 0)\n",
    "pca_contribplot(g, X.columns.values, comp = 1)\n",
    "pca_contribplot(g, X.columns.values, comp = 2)"
   ]
  },
  {
   "attachments": {},
   "cell_type": "markdown",
   "metadata": {
    "datalore": {
     "hide_input_from_viewers": false,
     "hide_output_from_viewers": false,
     "type": "MD"
    }
   },
   "source": [
    "For instance, variable `age` contributes the most to PC1, `chol` does to PC2, and `restbp` does to PC3.\n",
    "\n",
    "Finally, we can also make a [biplot](https://en.wikipedia.org/wiki/Biplot) to show, at the same time, where each observation is projected along two principal components, next to the vectors showing the direction of each feature along those same components. We will use our custom function `pca_biplot`, as defined above:"
   ]
  },
  {
   "cell_type": "code",
   "execution_count": null,
   "metadata": {
    "datalore": {
     "hide_input_from_viewers": false,
     "hide_output_from_viewers": false,
     "type": "CODE"
    }
   },
   "outputs": [],
   "source": [
    "pca_biplot(X_scaled, g, X.columns.values, comp = [0,1])"
   ]
  },
  {
   "attachments": {},
   "cell_type": "markdown",
   "metadata": {
    "datalore": {
     "hide_input_from_viewers": false,
     "hide_output_from_viewers": false,
     "type": "MD"
    }
   },
   "source": [
    "Each number represents one observation in the dataset `X_scaled`. Biplots are very useful to understand differences and similarities among observations, interpreting their distance along the two PCs. We can therefore use them to visualize clusters in a scatterplot, as an attempt to interpret what the clusters mean.\n",
    "\n",
    "As an example, let's recompute the clusters we made in the _Whiskey_ dataset, and plot observations in a biplot, with a color identifying the cluster, and a label identifying the distillery (note the optional arguments `clusters`and `labels` in `pca_biplot`):"
   ]
  },
  {
   "cell_type": "code",
   "execution_count": null,
   "metadata": {
    "datalore": {
     "hide_input_from_viewers": false,
     "hide_output_from_viewers": false,
     "type": "CODE"
    }
   },
   "outputs": [],
   "source": [
    "# prepare data\n",
    "X = whiskey.loc[:, 'body':'floral']\n",
    "X_scaled = StandardScaler().fit(X).transform(X)\n",
    "\n",
    "# compute clusters\n",
    "m = KMeans(n_clusters=3, random_state=12345).fit(X_scaled)\n",
    "m.labels_\n",
    "\n",
    "# perform PCA\n",
    "g = PCA(n_components=2).fit(X_scaled)\n",
    "X_star = g.transform(X_scaled)\n",
    "\n",
    "# plot\n",
    "pca_biplot(X_scaled, g, X.columns.values, comp = [0,1], clusters = m.labels_, labels = whiskey['distillery'])"
   ]
  },
  {
   "attachments": {},
   "cell_type": "markdown",
   "metadata": {
    "datalore": {
     "hide_input_from_viewers": false,
     "hide_output_from_viewers": false,
     "type": "MD"
    }
   },
   "source": [
    "This plot provides us yet another way to try and interpret the clusters by looking at where they are in this 2D space, and what variables are the most important along each principal component. For example, it's clear that cluster 0 scores high along PC1, which is mostly about variables `smoky` and `medicinal`. Similarly, cluster 1 scores high along PC2, which is mostly about `winey` taste and `body`. Cluster 2 scores low along PC2."
   ]
  },
  {
   "attachments": {},
   "cell_type": "markdown",
   "metadata": {
    "datalore": {
     "hide_input_from_viewers": false,
     "hide_output_from_viewers": false,
     "type": "MD"
    }
   },
   "source": [
    "## 6. PCA for Supervised Learning\n",
    "\n",
    "We can also use PCA to simplify a supervised learning problem. Let's build a logistic regression classifier for the _Heart_ dataset using all variables, that is, 6 numerical and 7 categorical features (refer back to the _Classification_ tutorial if necessary):"
   ]
  },
  {
   "cell_type": "code",
   "execution_count": null,
   "metadata": {
    "datalore": {
     "hide_input_from_viewers": false,
     "hide_output_from_viewers": false,
     "type": "CODE"
    }
   },
   "outputs": [],
   "source": [
    "from sklearn.metrics import f1_score\n",
    "\n",
    "X = heart.assign(y = heart['ahd'].cat.codes)\n",
    "f = smf.glm('''y ~ sex + chestpain + fbs + restecg + exang + slope + thal +\n",
    "                   age + restbp + chol + maxhr + oldpeak + ca''',\n",
    "            X, family = sm.families.Binomial()).fit()\n",
    "p = f.predict()\n",
    "p = X['ahd'].cat.categories[np.where(p < .5, 0, 1)]\n",
    "\n",
    "print('F-score: ', f1_score(X['ahd'], p, average = 'macro'))"
   ]
  },
  {
   "attachments": {},
   "cell_type": "markdown",
   "metadata": {
    "datalore": {
     "hide_input_from_viewers": false,
     "hide_output_from_viewers": false,
     "type": "MD"
    }
   },
   "source": [
    "This base model uses all 13 features and achieves an F-score of 87%.\n",
    "\n",
    "Let’s now build a PCA model `g` to reduce the dimensionality of our dataset. Because PCA doesn’t work with categorical variables, we first have to separate the numerical variables to work with."
   ]
  },
  {
   "cell_type": "code",
   "execution_count": null,
   "metadata": {
    "datalore": {
     "hide_input_from_viewers": false,
     "hide_output_from_viewers": false,
     "type": "CODE"
    }
   },
   "outputs": [],
   "source": [
    "# separate numerical features\n",
    "X_num = heart.select_dtypes('number')\n",
    "# standardize prior to PCA\n",
    "X_num_scaled = StandardScaler().fit(X_num).transform(X_num)\n",
    "\n",
    "# fit PCA model g and diagnose\n",
    "g = PCA().fit(X_num_scaled)\n",
    "pca_screeplot(g)"
   ]
  },
  {
   "attachments": {},
   "cell_type": "markdown",
   "metadata": {
    "datalore": {
     "hide_input_from_viewers": false,
     "hide_output_from_viewers": false,
     "type": "MD"
    }
   },
   "source": [
    "It looks like with 1 or 2 dimensions we may be able to significantly reduce data and model complexity. First, we have to transform the original dataset, and then we train the logistic regression model again:"
   ]
  },
  {
   "cell_type": "code",
   "execution_count": null,
   "metadata": {
    "datalore": {
     "hide_input_from_viewers": false,
     "hide_output_from_viewers": false,
     "type": "CODE"
    }
   },
   "outputs": [],
   "source": [
    "# transform numerical variables through g\n",
    "X_num_star = pd.DataFrame(data = g.transform(X_num_scaled),\n",
    "                          columns = ['PC1','PC2','PC3','PC4','PC5','PC6'])\n",
    "# append the PCs to the original data\n",
    "X_star = X.join(X_num_star)\n",
    "X_star.info()"
   ]
  },
  {
   "cell_type": "code",
   "execution_count": null,
   "metadata": {
    "datalore": {
     "hide_input_from_viewers": false,
     "hide_output_from_viewers": false,
     "type": "CODE"
    }
   },
   "outputs": [],
   "source": [
    "# build the new model on all the categorical features and the first two PCs\n",
    "f_star = smf.glm('''y ~ sex + chestpain + fbs + restecg + exang + slope + thal +\n",
    "                        PC1 + PC2''',\n",
    "                 X_star, family = sm.families.Binomial()).fit()\n",
    "p = f_star.predict()\n",
    "p = X['ahd'].cat.categories[np.where(p < .5, 0, 1)]\n",
    "\n",
    "print('F-score: ', f1_score(X['ahd'], p, average = 'macro'))"
   ]
  },
  {
   "attachments": {},
   "cell_type": "markdown",
   "metadata": {
    "datalore": {
     "hide_input_from_viewers": false,
     "hide_output_from_viewers": false,
     "type": "MD"
    }
   },
   "source": [
    "We reduced the features from 13 (6 numerical, 7 categorical) to 9 (2 principal components, 7 categorical) dimensions, and the classification F-score was reduced only in 0.03 points. We could look into an ANOVA table for the new model `f_star` to see what features have the largest impact on the model, but unfortunately Statsmodels doesn't support ANOVA on GLMs. Alternatively, we can look at the regression table to get _a rough impression_:"
   ]
  },
  {
   "cell_type": "code",
   "execution_count": null,
   "metadata": {
    "datalore": {
     "hide_input_from_viewers": false,
     "hide_output_from_viewers": false,
     "type": "CODE"
    }
   },
   "outputs": [],
   "source": [
    "f_star.summary()"
   ]
  },
  {
   "attachments": {},
   "cell_type": "markdown",
   "metadata": {
    "datalore": {
     "hide_input_from_viewers": false,
     "hide_output_from_viewers": false,
     "type": "MD"
    }
   },
   "source": [
    "Judging by the $z$-scores (interpret them similar to $t$-scores), it seems that the classification is being made mostly on the basis of the first component `PC1` and the `chestpain` variable. Let’s see what happens if we only use the first principal component and the most significant categorical features:"
   ]
  },
  {
   "cell_type": "code",
   "execution_count": null,
   "metadata": {
    "datalore": {
     "hide_input_from_viewers": false,
     "hide_output_from_viewers": false,
     "type": "CODE"
    }
   },
   "outputs": [],
   "source": [
    "f_star = smf.glm('''y ~ sex + chestpain + thal +\n",
    "                        PC1''',\n",
    "                 X_star, family = sm.families.Binomial()).fit()\n",
    "p = f_star.predict()\n",
    "p = X['ahd'].cat.categories[np.where(p < .5, 0, 1)]\n",
    "\n",
    "print('F-score: ', f1_score(X['ahd'], p, average = 'macro'))"
   ]
  },
  {
   "cell_type": "code",
   "execution_count": null,
   "metadata": {
    "datalore": {
     "hide_input_from_viewers": false,
     "hide_output_from_viewers": false,
     "type": "CODE"
    }
   },
   "outputs": [],
   "source": [
    "f_star.summary()"
   ]
  },
  {
   "attachments": {},
   "cell_type": "markdown",
   "metadata": {
    "datalore": {
     "hide_input_from_viewers": false,
     "hide_output_from_viewers": false,
     "type": "MD"
    }
   },
   "source": [
    "Comparing the regression summaries (eg. the pseudo-$R^2$), we see that the models are indeed pretty similar. The final model is however much simpler (only 4 features) and has virtually the same classification accuracy.\n",
    "\n",
    "Note that we used the initial PCA model `g`, which was fitted to produce all 6 principal components when transforming via `g.transform`. Instead, we could have fitted a new PCA model with a specific dimensionality in mind (setting eg. `n_components=2`), so that when we `g.transform` a dataset we automatically get only the first two PCs. This would make the process simpler in the sense that any new instance from a test set would go through `g.transform` to directly produce only as many PCs as needed by the supervised model."
   ]
  }
 ],
 "metadata": {
  "datalore": {
   "base_environment": "default",
   "computation_mode": "JUPYTER",
   "package_manager": "pip",
   "packages": [],
   "version": 1
  },
  "kernelspec": {
   "display_name": "Python 3.10.2 ('bep_novel')",
   "language": "python",
   "name": "python3"
  },
  "language_info": {
   "codemirror_mode": {
    "name": "ipython",
    "version": 3
   },
   "file_extension": ".py",
   "mimetype": "text/x-python",
   "name": "python",
   "nbconvert_exporter": "python",
   "pygments_lexer": "ipython3",
   "version": "3.10.2"
  },
  "vscode": {
   "interpreter": {
    "hash": "651a93cb3e50ea2be64a55fcd1c38cb155406420d744c755cc0ebb9d72b6f322"
   }
  }
 },
 "nbformat": 4,
 "nbformat_minor": 4
}
